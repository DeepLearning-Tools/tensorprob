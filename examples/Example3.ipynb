{
 "cells": [
  {
   "cell_type": "code",
   "execution_count": 1,
   "metadata": {
    "collapsed": true
   },
   "outputs": [],
   "source": [
    "import numpy as np\n",
    "from tensorprob import Model, Parameter, Normal"
   ]
  },
  {
   "cell_type": "code",
   "execution_count": 2,
   "metadata": {
    "collapsed": true
   },
   "outputs": [],
   "source": [
    "with Model() as model:\n",
    "    mu = Parameter()\n",
    "    sigma = Parameter(lower=0)\n",
    "    X = Normal(mu, sigma)\n",
    "\n",
    "# Declare variables for which we have data\n",
    "model.observed(X)\n",
    "\n",
    "# Set the initial values\n",
    "model.initialize({\n",
    "    mu: 10,\n",
    "    sigma: 10,\n",
    "})"
   ]
  },
  {
   "cell_type": "code",
   "execution_count": 3,
   "metadata": {
    "collapsed": false
   },
   "outputs": [
    {
     "name": "stdout",
     "output_type": "stream",
     "text": [
      " hess_inv: <2x2 LbfgsInvHessProduct with dtype=float64>\n",
      "  success: True\n",
      "   status: 0\n",
      "      fun: 1398.7665571861055\n",
      "     nfev: 87\n",
      "  message: b'CONVERGENCE: REL_REDUCTION_OF_F_<=_FACTR*EPSMCH'\n",
      "        x: array([ 0.02567145,  0.98003015])\n",
      "      nit: 13\n",
      "      jac: array([ -2.20552465e-03,  -6.82121026e-05])\n"
     ]
    }
   ],
   "source": [
    "# Create dataset with Numpy\n",
    "data = np.random.normal(0, 1, 1000)\n",
    "\n",
    "# Perform the fit\n",
    "print(model.fit(data))"
   ]
  },
  {
   "cell_type": "code",
   "execution_count": 4,
   "metadata": {
    "collapsed": true
   },
   "outputs": [],
   "source": [
    "%matplotlib inline\n",
    "import matplotlib.pyplot as plt"
   ]
  },
  {
   "cell_type": "code",
   "execution_count": 5,
   "metadata": {
    "collapsed": false
   },
   "outputs": [
    {
     "data": {
      "text/plain": [
       "[<matplotlib.lines.Line2D at 0x7f7f0f393908>]"
      ]
     },
     "execution_count": 5,
     "metadata": {},
     "output_type": "execute_result"
    },
    {
     "data": {
      "image/png": "[encoded data removed]",
      "text/plain": [
       "<matplotlib.figure.Figure at 0x7f7f0f3938d0>"
      ]
     },
     "metadata": {},
     "output_type": "display_data"
    }
   ],
   "source": [
    "xs = np.linspace(-5, 5, 200)\n",
    "plt.hist(data, bins=20, histtype='step', color='k', normed=True)\n",
    "plt.plot(xs, model.pdf(xs), 'b-')"
   ]
  },
  {
   "cell_type": "code",
   "execution_count": null,
   "metadata": {
    "collapsed": true
   },
   "outputs": [],
   "source": []
  }
 ],
 "metadata": {
  "kernelspec": {
   "display_name": "Environment (python-3.5)",
   "language": "",
   "name": "python-3.5"
  },
  "language_info": {
   "codemirror_mode": {
    "name": "ipython",
    "version": 3
   },
   "file_extension": ".py",
   "mimetype": "text/x-python",
   "name": "python",
   "nbconvert_exporter": "python",
   "pygments_lexer": "ipython3",
   "version": "3.5.1"
  }
 },
 "nbformat": 4,
 "nbformat_minor": 0
}
