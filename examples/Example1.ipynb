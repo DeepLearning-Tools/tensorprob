{
 "cells": [
  {
   "cell_type": "code",
   "execution_count": 1,
   "metadata": {
    "collapsed": false
   },
   "outputs": [],
   "source": [
    "import numpy as np\n",
    "from tensorprob import Model, Parameter, Normal, Exponential, Mix2"
   ]
  },
  {
   "cell_type": "code",
   "execution_count": 2,
   "metadata": {
    "collapsed": false
   },
   "outputs": [],
   "source": [
    "with Model() as model:\n",
    "    mu = Parameter()\n",
    "    # f_normal = Parameter('f_normal', lower=0, upper=1)\n",
    "    sigma1 = Parameter(lower=0, name='sigma')\n",
    "    # sigma2 = Parameter('sigma2', lower=0)\n",
    "    lamb = Parameter(lower=0, name='lambda')\n",
    "    f = Parameter(lower=0, upper=1, name='ffffffffffffff')\n",
    "\n",
    "    # X1 = Normal2(mu, f_normal, sigma1, sigma2)\n",
    "    X1 = Normal(mu, sigma1)\n",
    "    X2 = Exponential(lamb)\n",
    "    X_ = Mix2(f, X1, X2, lower=0, upper=100)\n",
    "\n",
    "model.observed(X_)\n",
    "model.initialize({\n",
    "    mu: 10,\n",
    "    sigma1: 1,\n",
    "    # sigma2: 20,\n",
    "    # f_normal: 0.5,\n",
    "    lamb: 2,\n",
    "    f: 0.2\n",
    "})"
   ]
  },
  {
   "cell_type": "code",
   "execution_count": 3,
   "metadata": {
    "collapsed": false
   },
   "outputs": [],
   "source": [
    "exp_data = np.random.exponential(10, 200)\n",
    "norm_data = np.random.normal(20, 2, 50)\n",
    "data = np.concatenate([exp_data, norm_data])"
   ]
  },
  {
   "cell_type": "code",
   "execution_count": 4,
   "metadata": {
    "collapsed": false,
    "scrolled": false
   },
   "outputs": [
    {
     "data": {
      "text/plain": [
       "  success: True\n",
       "   status: 0\n",
       "      nit: 36\n",
       "     nfev: 310\n",
       " hess_inv: <4x4 LbfgsInvHessProduct with dtype=float64>\n",
       "        x: array([ 19.24959719,   1.3284817 ,   0.08780133,   0.15484828])\n",
       "      fun: 860.60903195231595\n",
       "      jac: array([-0.00011369,  0.0001819 , -0.00203499, -0.00059117])\n",
       "  message: b'CONVERGENCE: REL_REDUCTION_OF_F_<=_FACTR*EPSMCH'"
      ]
     },
     "execution_count": 4,
     "metadata": {},
     "output_type": "execute_result"
    }
   ],
   "source": [
    "model.fit(data)"
   ]
  },
  {
   "cell_type": "code",
   "execution_count": 5,
   "metadata": {
    "collapsed": true
   },
   "outputs": [],
   "source": [
    "%matplotlib inline\n",
    "from matplotlib import pyplot as plt"
   ]
  },
  {
   "cell_type": "code",
   "execution_count": 6,
   "metadata": {
    "collapsed": false
   },
   "outputs": [
    {
     "data": {
      "text/plain": [
       "[<matplotlib.lines.Line2D at 0x7fefb41c9940>]"
      ]
     },
     "execution_count": 6,
     "metadata": {},
     "output_type": "execute_result"
    },
    {
     "data": {
      "image/png": "[encoded data removed]",
      "text/plain": [
       "<matplotlib.figure.Figure at 0x7fefb41c9908>"
      ]
     },
     "metadata": {},
     "output_type": "display_data"
    }
   ],
   "source": [
    "xs = np.linspace(0, 100, 200)\n",
    "_ = plt.hist(data, bins=100, histtype='step', color='k', normed=True)\n",
    "plt.plot(xs, model.pdf(xs), 'b-')"
   ]
  },
  {
   "cell_type": "code",
   "execution_count": null,
   "metadata": {
    "collapsed": true
   },
   "outputs": [],
   "source": []
  }
 ],
 "metadata": {
  "kernelspec": {
   "display_name": "Environment (python-3.5)",
   "language": "",
   "name": "python-3.5"
  },
  "language_info": {
   "codemirror_mode": {
    "name": "ipython",
    "version": 3
   },
   "file_extension": ".py",
   "mimetype": "text/x-python",
   "name": "python",
   "nbconvert_exporter": "python",
   "pygments_lexer": "ipython3",
   "version": "3.5.1"
  }
 },
 "nbformat": 4,
 "nbformat_minor": 0
}
