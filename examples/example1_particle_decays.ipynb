{
 "cells": [
  {
   "cell_type": "markdown",
   "metadata": {},
   "source": [
    "# Example 1: Mixture of normal and exponential distributions\n",
    "\n",
    "This example is inspired by particle physics:\n",
    "The dataset consists of the reconstructed masses of possible particle candidates.\n",
    "Background decays follow an exponential distribution, while signal decays follow a normal distribution."
   ]
  },
  {
   "cell_type": "code",
   "execution_count": 1,
   "metadata": {
    "collapsed": false
   },
   "outputs": [],
   "source": [
    "%matplotlib inline\n",
    "import numpy as np\n",
    "from matplotlib import pyplot as plt\n",
    "from tensorprob import Model, Parameter, Normal, Exponential, Mix2, ScipyLBFGSBOptimizer\n",
    "# We use the matplotlib_hep library to easily create high energy physics plots\n",
    "from matplotlib_hep import histpoints\n",
    "plt.rcParams['figure.figsize'] = (10.0, 6.0)"
   ]
  },
  {
   "cell_type": "markdown",
   "metadata": {},
   "source": [
    "We model our distribution as a mixture of a normal distribution (parameters `mu` and `sigma` and mixture weight `f`) and an exponential distribution (parameter `lamb` and mixture weight `1 -f`).\n",
    "\n",
    "This model can be translated into TensorProb as follows:"
   ]
  },
  {
   "cell_type": "code",
   "execution_count": 2,
   "metadata": {
    "collapsed": false
   },
   "outputs": [],
   "source": [
    "with Model() as model:\n",
    "    mu = Parameter()\n",
    "    sigma = Parameter(lower=0)\n",
    "    lamb = Parameter(lower=0)\n",
    "    f = Parameter(lower=0.0, upper=1)\n",
    "\n",
    "    X = Mix2(f,\n",
    "        Normal(mu, sigma, lower=0, upper=50),\n",
    "        Exponential(lamb, lower=0, upper=50),\n",
    "        lower=0,\n",
    "        upper=50,\n",
    "    )"
   ]
  },
  {
   "cell_type": "markdown",
   "metadata": {},
   "source": [
    "We declare `X` as an observed variable and set suitable initial parameter values:"
   ]
  },
  {
   "cell_type": "code",
   "execution_count": 3,
   "metadata": {
    "collapsed": false
   },
   "outputs": [],
   "source": [
    "model.observed(X)\n",
    "model.initialize({\n",
    "    mu: 25,\n",
    "    sigma: 2,\n",
    "    lamb: 0.03,\n",
    "    f: 0.2\n",
    "})"
   ]
  },
  {
   "cell_type": "markdown",
   "metadata": {},
   "source": [
    "The dataset is generated with numpy:"
   ]
  },
  {
   "cell_type": "code",
   "execution_count": 4,
   "metadata": {
    "collapsed": false
   },
   "outputs": [],
   "source": [
    "np.random.seed(0)\n",
    "exp_data = np.random.exponential(40, 10000)\n",
    "exp_data = exp_data[(0 < exp_data) & (exp_data < 50)]\n",
    "norm_data = np.random.normal(20, 2, 500)\n",
    "data = np.concatenate([exp_data, norm_data])"
   ]
  },
  {
   "cell_type": "markdown",
   "metadata": {},
   "source": [
    "Now we perform a fit of the model using the default optimizer:"
   ]
  },
  {
   "cell_type": "code",
   "execution_count": 5,
   "metadata": {
    "collapsed": false,
    "scrolled": true
   },
   "outputs": [
    {
     "name": "stdout",
     "output_type": "stream",
     "text": [
      "\n",
      "OptimizationResult:\n",
      "   calls: 48\n",
      "    func: 29295.750875849644\n",
      " message: 'convergence: rel_reduction_of_f_<=_factr*epsmch'\n",
      "   niter: 27\n",
      " success: True\n",
      "       x: array([ 20.12408679,   1.64031853,   0.02645245,   0.06332244])\n"
     ]
    }
   ],
   "source": [
    "result = model.fit(data)\n",
    "print(result)"
   ]
  },
  {
   "cell_type": "markdown",
   "metadata": {},
   "source": [
    "The fit converged successfully and we can visualize the distribution:"
   ]
  },
  {
   "cell_type": "code",
   "execution_count": 6,
   "metadata": {
    "collapsed": false
   },
   "outputs": [
    {
     "data": {
      "text/plain": [
       "<matplotlib.text.Text at 0x7f70f8186a58>"
      ]
     },
     "execution_count": 6,
     "metadata": {},
     "output_type": "execute_result"
    },
    {
     "data": {
      "image/png": "[encoded data removed]",
      "text/plain": [
       "<matplotlib.figure.Figure at 0x7f70f81d5908>"
      ]
     },
     "metadata": {},
     "output_type": "display_data"
    }
   ],
   "source": [
    "xs = np.linspace(0, 50, 200)\n",
    "x, N, w = histpoints(data, bins=60, color='k', ms=3, capsize=0)\n",
    "plt.plot(xs, w * model.pdf(xs), 'b-', lw=2)\n",
    "plt.xlabel('mass')\n",
    "plt.ylabel('candidates')"
   ]
  }
 ],
 "metadata": {
  "kernelspec": {
   "display_name": "Python 3",
   "language": "python",
   "name": "python3"
  },
  "language_info": {
   "codemirror_mode": {
    "name": "ipython",
    "version": 3
   },
   "file_extension": ".py",
   "mimetype": "text/x-python",
   "name": "python",
   "nbconvert_exporter": "python",
   "pygments_lexer": "ipython3",
   "version": "3.5.1"
  }
 },
 "nbformat": 4,
 "nbformat_minor": 0
}
