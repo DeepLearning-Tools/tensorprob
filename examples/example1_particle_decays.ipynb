{
 "cells": [
  {
   "cell_type": "markdown",
   "metadata": {},
   "source": [
    "# Example 1: Mixture of normal and exponential distributions\n",
    "\n",
    "This example is inspired by particle physics:\n",
    "The dataset consists of the reconstructed masses of possible particle candidates.\n",
    "Background decays follow an exponential distribution, while signal decays follow a normal distribution."
   ]
  },
  {
   "cell_type": "code",
   "execution_count": 14,
   "metadata": {
    "collapsed": false
   },
   "outputs": [],
   "source": [
    "%matplotlib inline\n",
    "import numpy as np\n",
    "from matplotlib import pyplot as plt\n",
    "from tensorprob import Model, Parameter, Normal, Exponential, Mix2, ScipyLBFGSBOptimizer"
   ]
  },
  {
   "cell_type": "markdown",
   "metadata": {},
   "source": [
    "We model our distribution as\n",
    "\n",
    "$\\mu =$ Mean of normal distribution\n",
    "\n",
    "$\\sigma =$ Standard deviation of normal distribution\n",
    "\n",
    "$\\lambda =$ The rate paramter of the exponential distribution\n",
    "\n",
    "$f =$ Mixture weight of the normal distribution\n",
    "\n",
    "$X \\sim f\\ \\mathrm{Normal}(\\mu, \\sigma) + (1-f)\\ \\mathrm{Exponential}(\\lambda)$\n",
    "\n",
    "Here, $X$ is the measured reconstructed mass.\n",
    "This model can be translated into TensorProb as follows:"
   ]
  },
  {
   "cell_type": "code",
   "execution_count": 15,
   "metadata": {
    "collapsed": false
   },
   "outputs": [],
   "source": [
    "with Model() as model:\n",
    "    mu = Parameter(name='mu')\n",
    "    sigma = Parameter(name='sigma', lower=0)\n",
    "    lamb = Parameter(name='lamb', lower=0)\n",
    "    f = Parameter(name='f', lower=0.0, upper=1)\n",
    "\n",
    "    X = Mix2(f,\n",
    "        Normal(mu, sigma, lower=0, upper=50),\n",
    "        Exponential(lamb, lower=0, upper=50),\n",
    "        lower=0, upper=50,\n",
    "    )"
   ]
  },
  {
   "cell_type": "markdown",
   "metadata": {},
   "source": [
    "We declare $X$ as an observed variable and set suitable initial parameter values:"
   ]
  },
  {
   "cell_type": "code",
   "execution_count": 16,
   "metadata": {
    "collapsed": false
   },
   "outputs": [],
   "source": [
    "model.observed(X)\n",
    "model.initialize({\n",
    "    mu: 25,\n",
    "    sigma: 2,\n",
    "    lamb: 0.05,\n",
    "    f: 0.2\n",
    "})"
   ]
  },
  {
   "cell_type": "markdown",
   "metadata": {},
   "source": [
    "The dataset is generated with numpy:"
   ]
  },
  {
   "cell_type": "code",
   "execution_count": 17,
   "metadata": {
    "collapsed": false
   },
   "outputs": [],
   "source": [
    "np.random.seed(0)\n",
    "exp_data = np.random.exponential(40, 10000)\n",
    "exp_data = exp_data[(0 < exp_data) & (exp_data < 50)]\n",
    "norm_data = np.random.normal(20, 2, 500)\n",
    "data = np.concatenate([exp_data, norm_data])"
   ]
  },
  {
   "cell_type": "markdown",
   "metadata": {},
   "source": [
    "Now we perform a fit of the model using the default optimizer:"
   ]
  },
  {
   "cell_type": "code",
   "execution_count": 18,
   "metadata": {
    "collapsed": false,
    "scrolled": true
   },
   "outputs": [
    {
     "name": "stdout",
     "output_type": "stream",
     "text": [
      "\n",
      "OptimizationResult:\n",
      "   calls: 48\n",
      "    func: 29295.750875877478\n",
      " message: 'convergence: rel_reduction_of_f_<=_factr*epsmch'\n",
      "   niter: 36\n",
      " success: True\n",
      "       x: array([  0.06332172,   0.02645247,  20.12411514,   1.64026126])\n"
     ]
    }
   ],
   "source": [
    "result = model.fit(data)\n",
    "print(result)"
   ]
  },
  {
   "cell_type": "markdown",
   "metadata": {},
   "source": [
    "The fit converged successfully and we can visualize the distribution:"
   ]
  },
  {
   "cell_type": "code",
   "execution_count": 19,
   "metadata": {
    "collapsed": false
   },
   "outputs": [
    {
     "data": {
      "text/plain": [
       "[<matplotlib.lines.Line2D at 0x7fe8dc4915f8>]"
      ]
     },
     "execution_count": 19,
     "metadata": {},
     "output_type": "execute_result"
    },
    {
     "data": {
      "image/png": "[encoded data removed]",
      "text/plain": [
       "<matplotlib.figure.Figure at 0x7fe8dc3d3c88>"
      ]
     },
     "metadata": {},
     "output_type": "display_data"
    }
   ],
   "source": [
    "xs = np.linspace(0, 50, 200)\n",
    "plt.ylim(0, 0.05)\n",
    "plt.hist(data, bins=80, histtype='step', color='k', normed=True)\n",
    "plt.plot(xs, model.pdf(xs), 'b-')"
   ]
  }
 ],
 "metadata": {
  "kernelspec": {
   "display_name": "Python 3",
   "language": "python",
   "name": "python3"
  },
  "language_info": {
   "codemirror_mode": {
    "name": "ipython",
    "version": 3
   },
   "file_extension": ".py",
   "mimetype": "text/x-python",
   "name": "python",
   "nbconvert_exporter": "python",
   "pygments_lexer": "ipython3",
   "version": "3.5.1"
  }
 },
 "nbformat": 4,
 "nbformat_minor": 0
}
